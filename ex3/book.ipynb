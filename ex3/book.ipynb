{
 "cells": [
  {
   "cell_type": "markdown",
   "metadata": {},
   "source": [
    "### DV1597 Exercise 3\n",
    "Tobias Gustafsson\n",
    "***"
   ]
  },
  {
   "cell_type": "markdown",
   "metadata": {},
   "source": [
    "### 1. Provide answers"
   ]
  },
  {
   "cell_type": "markdown",
   "metadata": {},
   "source": [
    "### Manhattan dataset\n",
    "\n",
    "Where in Manhattan is the most/least expensive real estate located? What is the relationship between the sales price and gross square feet?"
   ]
  },
  {
   "cell_type": "code",
   "execution_count": 115,
   "metadata": {},
   "outputs": [
    {
     "name": "stdout",
     "output_type": "stream",
     "text": [
      "2993419.7604035307\n",
      "9379724.59955534\n"
     ]
    },
    {
     "data": {
      "text/html": [
       "<div>\n",
       "<style scoped>\n",
       "    .dataframe tbody tr th:only-of-type {\n",
       "        vertical-align: middle;\n",
       "    }\n",
       "\n",
       "    .dataframe tbody tr th {\n",
       "        vertical-align: top;\n",
       "    }\n",
       "\n",
       "    .dataframe thead th {\n",
       "        text-align: right;\n",
       "    }\n",
       "</style>\n",
       "<table border=\"1\" class=\"dataframe\">\n",
       "  <thead>\n",
       "    <tr style=\"text-align: right;\">\n",
       "      <th></th>\n",
       "      <th>index</th>\n",
       "      <th>NEIGHBORHOOD</th>\n",
       "      <th>SALE PRICE</th>\n",
       "    </tr>\n",
       "  </thead>\n",
       "  <tbody>\n",
       "    <tr>\n",
       "      <th>0</th>\n",
       "      <td>184</td>\n",
       "      <td>CHELSEA</td>\n",
       "      <td>13000000</td>\n",
       "    </tr>\n",
       "    <tr>\n",
       "      <th>1</th>\n",
       "      <td>185</td>\n",
       "      <td>CHELSEA</td>\n",
       "      <td>0</td>\n",
       "    </tr>\n",
       "    <tr>\n",
       "      <th>2</th>\n",
       "      <td>186</td>\n",
       "      <td>CHELSEA</td>\n",
       "      <td>0</td>\n",
       "    </tr>\n",
       "    <tr>\n",
       "      <th>3</th>\n",
       "      <td>187</td>\n",
       "      <td>CHELSEA</td>\n",
       "      <td>7425000</td>\n",
       "    </tr>\n",
       "    <tr>\n",
       "      <th>4</th>\n",
       "      <td>188</td>\n",
       "      <td>CHELSEA</td>\n",
       "      <td>0</td>\n",
       "    </tr>\n",
       "    <tr>\n",
       "      <th>...</th>\n",
       "      <td>...</td>\n",
       "      <td>...</td>\n",
       "      <td>...</td>\n",
       "    </tr>\n",
       "    <tr>\n",
       "      <th>788</th>\n",
       "      <td>972</td>\n",
       "      <td>CHELSEA</td>\n",
       "      <td>5100000</td>\n",
       "    </tr>\n",
       "    <tr>\n",
       "      <th>789</th>\n",
       "      <td>973</td>\n",
       "      <td>CHELSEA</td>\n",
       "      <td>1750000</td>\n",
       "    </tr>\n",
       "    <tr>\n",
       "      <th>790</th>\n",
       "      <td>974</td>\n",
       "      <td>CHELSEA</td>\n",
       "      <td>12250000</td>\n",
       "    </tr>\n",
       "    <tr>\n",
       "      <th>791</th>\n",
       "      <td>975</td>\n",
       "      <td>CHELSEA</td>\n",
       "      <td>0</td>\n",
       "    </tr>\n",
       "    <tr>\n",
       "      <th>792</th>\n",
       "      <td>976</td>\n",
       "      <td>CHELSEA</td>\n",
       "      <td>0</td>\n",
       "    </tr>\n",
       "  </tbody>\n",
       "</table>\n",
       "<p>793 rows × 3 columns</p>\n",
       "</div>"
      ],
      "text/plain": [
       "     index               NEIGHBORHOOD  SALE PRICE\n",
       "0      184  CHELSEA                      13000000\n",
       "1      185  CHELSEA                             0\n",
       "2      186  CHELSEA                             0\n",
       "3      187  CHELSEA                       7425000\n",
       "4      188  CHELSEA                             0\n",
       "..     ...                        ...         ...\n",
       "788    972  CHELSEA                       5100000\n",
       "789    973  CHELSEA                       1750000\n",
       "790    974  CHELSEA                      12250000\n",
       "791    975  CHELSEA                             0\n",
       "792    976  CHELSEA                             0\n",
       "\n",
       "[793 rows x 3 columns]"
      ]
     },
     "execution_count": 115,
     "metadata": {},
     "output_type": "execute_result"
    }
   ],
   "source": [
    "import pandas as pd\n",
    "\n",
    "df = pd.read_excel('rollingsales_manhattan.xls', header=4)\n",
    "df = df.iloc[:,[1,19]].dropna()\n",
    "\n",
    "# print(df['NEIGHBORHOOD'].unique())\n",
    "chelsea = df.loc[df['NEIGHBORHOOD'] == 'CHELSEA                  '].reset_index()\n",
    "c2 = chelsea.iloc[:,2:].values\n",
    "print(c2.mean())\n",
    "print(c2.std())\n",
    "\n",
    "chelsea\n",
    "\n",
    "# df_grouped = df_2.groupby('NEIGHBORHOOD')\n",
    "# std = df_grouped.std().reset_index()\n",
    "# df_grouped = df_grouped.mean().reset_index().rename(columns={'SALE PRICE': 'AVERAGE SALE PRICE'})\n",
    "# print(std)\n",
    "# print(df_grouped)\n",
    "# df_grouped.insert(0,2,std,True)\n",
    "\n"
   ]
  },
  {
   "cell_type": "markdown",
   "metadata": {},
   "source": [
    "### 2012 Olympics dataset\n",
    "\n",
    "What can you say about the relationship between a country’s population and the number of medals it wins? What can you say about the relationship between the ratio of female and male counts and the GDP of that country?"
   ]
  },
  {
   "cell_type": "code",
   "execution_count": 21,
   "metadata": {},
   "outputs": [
    {
     "name": "stdout",
     "output_type": "stream",
     "text": [
      "   ISO country code Country name      2011 GDP  2010 population  Female count  \\\n",
      "0               USA           US  1.509400e+13        309349000           271   \n",
      "1               CHN        China  7.298100e+12       1338300000           208   \n",
      "2               JPN        Japan  5.867150e+12        127451000           162   \n",
      "3               DEU      Germany  3.570560e+12         81777000           176   \n",
      "4               FRA       France  2.773030e+12         64895000           148   \n",
      "5               BRA       Brazil  2.476650e+12        194946000           128   \n",
      "6               GBR           UK  2.431590e+12         62232000           269   \n",
      "7               ITA        Italy  2.194750e+12         60483000           122   \n",
      "8               RUS       Russia  1.857770e+12        141750000           227   \n",
      "9               IND        India  1.847980e+12       1224615000            23   \n",
      "10              JAM      Jamaica  1.506977e+10          2702000            25   \n",
      "11              GEO      Georgia  1.436657e+10          4452000             6   \n",
      "12              PRK  North Korea  1.228000e+10         24589122            40   \n",
      "13              ARM      Armenia  1.024779e+10          3092000             4   \n",
      "14              MNG     Mongolia  8.557530e+09          2756000            13   \n",
      "15              BHS      Bahamas  7.787514e+09           343000            11   \n",
      "16              MDA      Moldova  7.000319e+09          3562000            10   \n",
      "17              TJK   Tajikistan  6.522200e+09          6879000             3   \n",
      "18              MNE   Montenegro  4.550463e+09           632000            16   \n",
      "19              GRD      Grenada  8.160541e+08           104000             4   \n",
      "\n",
      "    Male count  Gold medals  Silver medals  Bronze medals  \n",
      "0          260           46             29             29  \n",
      "1          163           38             27             23  \n",
      "2          141            7             14             17  \n",
      "3          219           11             19             14  \n",
      "4          187           11             11             12  \n",
      "5          138            3              5              9  \n",
      "6          287           29             17             19  \n",
      "7          159            8              9             11  \n",
      "8          208           24             26             32  \n",
      "9           60            0              2              4  \n",
      "10          25            4              4              4  \n",
      "11          29            1              3              3  \n",
      "12          15            4              0              2  \n",
      "13          21            0              1              2  \n",
      "14          16            0              2              3  \n",
      "15          15            1              0              0  \n",
      "16          12            0              0              2  \n",
      "17          13            0              0              1  \n",
      "18          18            0              1              0  \n",
      "19           6            1              0              0  \n"
     ]
    }
   ],
   "source": [
    "df_ol = pd.read_csv('olympics.csv')\n",
    "print(df_ol)"
   ]
  }
 ],
 "metadata": {
  "kernelspec": {
   "display_name": "Python 3",
   "language": "python",
   "name": "python3"
  },
  "language_info": {
   "codemirror_mode": {
    "name": "ipython",
    "version": 3
   },
   "file_extension": ".py",
   "mimetype": "text/x-python",
   "name": "python",
   "nbconvert_exporter": "python",
   "pygments_lexer": "ipython3",
   "version": "3.9.13"
  }
 },
 "nbformat": 4,
 "nbformat_minor": 2
}
