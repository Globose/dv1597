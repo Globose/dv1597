{
 "cells": [
  {
   "cell_type": "markdown",
   "metadata": {},
   "source": [
    "## DV1597 Assignment 1\n",
    "\n",
    "Namn"
   ]
  },
  {
   "cell_type": "markdown",
   "metadata": {},
   "source": [
    "***"
   ]
  },
  {
   "cell_type": "markdown",
   "metadata": {},
   "source": [
    "#### Initialize"
   ]
  },
  {
   "cell_type": "code",
   "execution_count": 72,
   "metadata": {},
   "outputs": [],
   "source": [
    "# Import packages\n",
    "import pandas as pd\n",
    "import matplotlib.pyplot as mpl\n",
    "import seaborn as sb\n",
    "import numpy as np\n",
    "import math"
   ]
  },
  {
   "cell_type": "code",
   "execution_count": 73,
   "metadata": {},
   "outputs": [
    {
     "data": {
      "text/html": [
       "<div>\n",
       "<style scoped>\n",
       "    .dataframe tbody tr th:only-of-type {\n",
       "        vertical-align: middle;\n",
       "    }\n",
       "\n",
       "    .dataframe tbody tr th {\n",
       "        vertical-align: top;\n",
       "    }\n",
       "\n",
       "    .dataframe thead th {\n",
       "        text-align: right;\n",
       "    }\n",
       "</style>\n",
       "<table border=\"1\" class=\"dataframe\">\n",
       "  <thead>\n",
       "    <tr style=\"text-align: right;\">\n",
       "      <th></th>\n",
       "      <th>Datum</th>\n",
       "      <th>Tid (UTC)</th>\n",
       "      <th>Lufttemperatur</th>\n",
       "    </tr>\n",
       "  </thead>\n",
       "  <tbody>\n",
       "    <tr>\n",
       "      <th>0</th>\n",
       "      <td>2010-03-01</td>\n",
       "      <td>00:00:00</td>\n",
       "      <td>2.0</td>\n",
       "    </tr>\n",
       "    <tr>\n",
       "      <th>1</th>\n",
       "      <td>2010-03-01</td>\n",
       "      <td>01:00:00</td>\n",
       "      <td>2.2</td>\n",
       "    </tr>\n",
       "    <tr>\n",
       "      <th>2</th>\n",
       "      <td>2010-03-01</td>\n",
       "      <td>02:00:00</td>\n",
       "      <td>2.2</td>\n",
       "    </tr>\n",
       "    <tr>\n",
       "      <th>3</th>\n",
       "      <td>2010-03-01</td>\n",
       "      <td>03:00:00</td>\n",
       "      <td>1.7</td>\n",
       "    </tr>\n",
       "    <tr>\n",
       "      <th>4</th>\n",
       "      <td>2010-03-01</td>\n",
       "      <td>04:00:00</td>\n",
       "      <td>1.7</td>\n",
       "    </tr>\n",
       "    <tr>\n",
       "      <th>...</th>\n",
       "      <td>...</td>\n",
       "      <td>...</td>\n",
       "      <td>...</td>\n",
       "    </tr>\n",
       "    <tr>\n",
       "      <th>122851</th>\n",
       "      <td>2024-01-01</td>\n",
       "      <td>02:00:00</td>\n",
       "      <td>3.9</td>\n",
       "    </tr>\n",
       "    <tr>\n",
       "      <th>122852</th>\n",
       "      <td>2024-01-01</td>\n",
       "      <td>03:00:00</td>\n",
       "      <td>3.9</td>\n",
       "    </tr>\n",
       "    <tr>\n",
       "      <th>122853</th>\n",
       "      <td>2024-01-01</td>\n",
       "      <td>04:00:00</td>\n",
       "      <td>3.7</td>\n",
       "    </tr>\n",
       "    <tr>\n",
       "      <th>122854</th>\n",
       "      <td>2024-01-01</td>\n",
       "      <td>05:00:00</td>\n",
       "      <td>3.6</td>\n",
       "    </tr>\n",
       "    <tr>\n",
       "      <th>122855</th>\n",
       "      <td>2024-01-01</td>\n",
       "      <td>06:00:00</td>\n",
       "      <td>3.5</td>\n",
       "    </tr>\n",
       "  </tbody>\n",
       "</table>\n",
       "<p>122856 rows × 3 columns</p>\n",
       "</div>"
      ],
      "text/plain": [
       "             Datum Tid (UTC)  Lufttemperatur\n",
       "0       2010-03-01  00:00:00             2.0\n",
       "1       2010-03-01  01:00:00             2.2\n",
       "2       2010-03-01  02:00:00             2.2\n",
       "3       2010-03-01  03:00:00             1.7\n",
       "4       2010-03-01  04:00:00             1.7\n",
       "...            ...       ...             ...\n",
       "122851  2024-01-01  02:00:00             3.9\n",
       "122852  2024-01-01  03:00:00             3.9\n",
       "122853  2024-01-01  04:00:00             3.7\n",
       "122854  2024-01-01  05:00:00             3.6\n",
       "122855  2024-01-01  06:00:00             3.5\n",
       "\n",
       "[122856 rows x 3 columns]"
      ]
     },
     "execution_count": 73,
     "metadata": {},
     "output_type": "execute_result"
    }
   ],
   "source": [
    "# Load dataset\n",
    "df_original = pd.read_csv('SMHI_Dataset/SMHI_Dataset/SMHI_Data.csv')\n",
    "df = df_original.copy()\n",
    "df"
   ]
  },
  {
   "cell_type": "markdown",
   "metadata": {},
   "source": [
    "***"
   ]
  },
  {
   "cell_type": "markdown",
   "metadata": {},
   "source": [
    "### Part 1"
   ]
  },
  {
   "cell_type": "markdown",
   "metadata": {},
   "source": [
    "#### Q1\n",
    "**Explain the data cleaning steps you consider for analyzing the provided dataset. You must motivate and describe why, how, and in which order you are going to apply the selected steps to the dataset. Note that you should consider applying your proposed data cleaning steps on the dataset to answer Q2-Q11.**\n",
    "\n",
    "Firstly we will look at the dataset and remove all duplicates in it. Then we want to remove all the missing values. Some missing values have an entry in the csv-file, but is missing the temperature data, while some timestamps are not found at all in the data. The strategy here is to insert all timestamps that are missing, with no temperature data, and then add an estimated temperature for every missing instance.\n",
    "\n",
    "#### Q3\n",
    "**Which strategy was used for handling the missing values? Motivate why you consider the selected strategy the most suitable for this task.**\n",
    "\n",
    "#### Q5\n",
    "**Plot all available air temperature data as a line plot with dates on the x-axis.**\n",
    "\n",
    "#### Q6\n",
    "**Rank the overall temperature per month, sort from the coldest to the warmest. List the top ten (10) coldest months in the dataset. Format the output as: YEAR/Month: temp, e.g.“2010/January: -5.0”**"
   ]
  },
  {
   "cell_type": "markdown",
   "metadata": {},
   "source": [
    "***"
   ]
  },
  {
   "cell_type": "markdown",
   "metadata": {},
   "source": [
    "#### Q2\n",
    "**Does the dataset contain any missing values? If so, how many in both absolute terms and percentages? Reflect on the number of missing values. Do you regard it as much or not?**\n",
    "\n",
    "### Find missing timestamps\n",
    "\n",
    "Out first step is to look at every row in the dataset, and find if any timestamp is missing from it. For example if for a date, the time 00:00:00 and 02:00:00 exists, but not 01:00:00. We also add all the timestamps that are missing to the dataframe."
   ]
  },
  {
   "cell_type": "code",
   "execution_count": 74,
   "metadata": {},
   "outputs": [
    {
     "name": "stdout",
     "output_type": "stream",
     "text": [
      "Missing timestamps: 694\n"
     ]
    }
   ],
   "source": [
    "# # Missing values investigation\n",
    "df = df.drop_duplicates().reset_index(drop=True)\n",
    "date = None\n",
    "\n",
    "missing_times = []\n",
    "timestamps = []\n",
    "\n",
    "for i, row in df.iterrows(): # Iterate over all rows\n",
    "    if date is None:\n",
    "        date = row['Datum']\n",
    "    time = int(row['Tid (UTC)'][:2]) # Get time from data point\n",
    "    \n",
    "    if row['Datum'] != date: # New date found\n",
    "        for ii in range(24): # Count if all times are included\n",
    "            counter = timestamps.count(ii)\n",
    "            if counter == 0: # Time not found, add to missing_times\n",
    "                missing_times.append(date + \",\"+ str(ii))\n",
    "        date = row['Datum']\n",
    "        time = int(row['Tid (UTC)'][:2])\n",
    "        timestamps = [time]\n",
    "    else:\n",
    "        timestamps.append(time)\n",
    "\n",
    "print(\"Missing timestamps:\", len(missing_times))\n",
    "\n",
    "for m in missing_times: # Add missing timestamps to dataframe\n",
    "    date, time = m.split(',')\n",
    "    timestring = \"\"\n",
    "    if len(time) < 2:\n",
    "        timestring += \"0\"+time\n",
    "    else:\n",
    "        timestring += time\n",
    "    timestring+=\":00:00\"\n",
    "    df.loc[len(df)] = [date,timestring,None]\n",
    "\n",
    "df.sort_values(by=['Datum','Tid (UTC)'], inplace=True)\n",
    "df = df.reset_index(drop=True)"
   ]
  },
  {
   "cell_type": "markdown",
   "metadata": {},
   "source": [
    "We found and added a total of 694 missing timestamps.\n",
    "\n",
    "### Missing temperature values\n",
    "Now we look for instances where the temperature data is missing."
   ]
  },
  {
   "cell_type": "code",
   "execution_count": 75,
   "metadata": {},
   "outputs": [
    {
     "name": "stdout",
     "output_type": "stream",
     "text": [
      "NaN temperatures: 7931\n",
      "NaN temperatures percentage: 6.54 %\n"
     ]
    }
   ],
   "source": [
    "na_values = df.isna().sum() # Count NaN values for each column\n",
    "na_temp = na_values['Lufttemperatur']\n",
    "na_p = round(100*(na_temp/len(df)),2)\n",
    "\n",
    "print(\"NaN temperatures:\",na_temp)\n",
    "print(\"NaN temperatures percentage:\",na_p, '%')"
   ]
  },
  {
   "cell_type": "markdown",
   "metadata": {},
   "source": [
    "### Estimating missing values"
   ]
  },
  {
   "cell_type": "code",
   "execution_count": 76,
   "metadata": {},
   "outputs": [],
   "source": [
    "def estimate(index):\n",
    "    i = index - 24\n",
    "    before = []\n",
    "    after = []\n",
    "    while i > 0 and len(before) < 3:\n",
    "        temp = df.iloc[i]['Lufttemperatur']\n",
    "        if not math.isnan(temp):\n",
    "            before.append(temp)\n",
    "        i-=24\n",
    "        \n",
    "    i = index + 24\n",
    "    while i < len(df) and len(after) < 3:\n",
    "        temp = df.iloc[i]['Lufttemperatur']\n",
    "        if not math.isnan(temp):\n",
    "            after.append(temp)\n",
    "        i+=24\n",
    "        \n",
    "    all_temps = []\n",
    "    all_temps.extend(before)\n",
    "    all_temps.extend(after)\n",
    "    \n",
    "    mean = round(sum(all_temps)/len(all_temps),1)\n",
    "    return mean\n",
    "\n",
    "for i, row in df.iterrows():\n",
    "    if math.isnan(row['Lufttemperatur']):\n",
    "        date = row['Datum']\n",
    "        before = df.iloc[i-1]['Lufttemperatur']\n",
    "        after = df.iloc[i+1]['Lufttemperatur']\n",
    "        \n",
    "        if math.isnan(after):\n",
    "            after = estimate(i)\n",
    "        mean = round((before+after)/2,1)\n",
    "        df.loc[i,'Lufttemperatur'] = mean\n",
    "        \n",
    "df.to_csv('data.csv', index=False)"
   ]
  },
  {
   "cell_type": "markdown",
   "metadata": {},
   "source": [
    "***\n",
    "#### Q4\n",
    "\n",
    "**Calculate the following statistics for the air temperature values in the dataset: minimum value, maximum value, sample mean, Q1/Q2/Q3 quartiles, sample standard deviation, 95% confidence interval of the mean**"
   ]
  },
  {
   "cell_type": "code",
   "execution_count": 96,
   "metadata": {},
   "outputs": [
    {
     "name": "stdout",
     "output_type": "stream",
     "text": [
      "Min: -19.2\n",
      "Mean: 38.6\n",
      "Mean: 9.435\n",
      "\n",
      "Quartiles:\n",
      "Q1 (25%): 4.1\n",
      "Q2 (50%): 9.1\n",
      "Q3 (75%): 15.3\n",
      "\n",
      "Standard deviation 6.978\n"
     ]
    }
   ],
   "source": [
    "temps = df_original['Lufttemperatur']\n",
    "print(\"Min:\",temps.min())\n",
    "print(\"Mean:\",temps.max())\n",
    "print(\"Mean:\",round(temps.mean(),3))\n",
    "\n",
    "print(\"\\nQuartiles:\")\n",
    "print(\"Q1 (25%):\",temps.quantile(0.25))\n",
    "print(\"Q2 (50%):\",temps.quantile(0.5))\n",
    "print(\"Q3 (75%):\",temps.quantile(0.75))\n",
    "\n",
    "print(\"\\nStandard deviation\",round(temps.std(),3))\n"
   ]
  },
  {
   "cell_type": "markdown",
   "metadata": {},
   "source": [
    "### Part 2 (D)\n",
    "\n",
    "Q7. Which distribution is suitable to consider to fit the air temperature data? How well does the data follow that distribution given some measure, e.g., p-value?"
   ]
  },
  {
   "cell_type": "markdown",
   "metadata": {},
   "source": [
    "***"
   ]
  },
  {
   "cell_type": "markdown",
   "metadata": {},
   "source": [
    "### Part 3 (C)\n",
    "\n",
    "Q8. Do you regard any of the air temperature measures in the dataset to be extreme values/outliers? If so, how many values? Motivate why you\n",
    "consider these values as anomalies.\n",
    "\n",
    "Q9. Calculate the mean temperature for each day in the year 2023 and then plot those means using a line plot with dates on the x-axis."
   ]
  },
  {
   "cell_type": "markdown",
   "metadata": {},
   "source": [
    "***"
   ]
  },
  {
   "cell_type": "markdown",
   "metadata": {},
   "source": [
    "### Part 4 (B)\n",
    "\n",
    "Q10. Rank the overall temperature per two (2) consecutive months starting with the warmest 2-month period first, e.g., (Y1M1+Y1M2)/2, (Y1M2+Y1M3)/2,... (Y1M11+Y1M1)/2, (Y1M12+Y2M1)/2,.... After that, you should sort those means from highest to lowest and list the ten (10) warmest 2-month periods all together in the dataset."
   ]
  },
  {
   "cell_type": "markdown",
   "metadata": {},
   "source": [
    "***"
   ]
  },
  {
   "cell_type": "markdown",
   "metadata": {},
   "source": [
    "### Part 5 (A)\n",
    "\n",
    "Q11. Calculate the 95% confidence intervals (CI) for the mean of each daily average in Q9 and add it to the line plot that shows the mean values of\n",
    "each day of the year 2023. You can, for example, solve this by plotting the upper and lower bounds as lines above and below the mean line in your\n",
    "plot. Another more nicely looking solution is to visualize the CI as shades around the mean line in your plot."
   ]
  }
 ],
 "metadata": {
  "kernelspec": {
   "display_name": "Python 3",
   "language": "python",
   "name": "python3"
  },
  "language_info": {
   "codemirror_mode": {
    "name": "ipython",
    "version": 3
   },
   "file_extension": ".py",
   "mimetype": "text/x-python",
   "name": "python",
   "nbconvert_exporter": "python",
   "pygments_lexer": "ipython3",
   "version": "3.9.13"
  }
 },
 "nbformat": 4,
 "nbformat_minor": 2
}
